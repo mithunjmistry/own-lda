{
 "cells": [
  {
   "cell_type": "code",
   "execution_count": 26,
   "metadata": {
    "collapsed": true
   },
   "outputs": [],
   "source": [
    "import numpy as np\n",
    "import matplotlib.pyplot as plt\n",
    "from sklearn import datasets\n",
    "%matplotlib inline"
   ]
  },
  {
   "cell_type": "code",
   "execution_count": 27,
   "metadata": {
    "collapsed": true
   },
   "outputs": [],
   "source": [
    "class Own_LDA:\n",
    "    def __init__(self, x, y):\n",
    "        self.x = x\n",
    "        self.y = y\n",
    "        self.n = x.shape[1]\n",
    "        self.s_w = np.zeros((self.n, self.n))\n",
    "        self.s_b = np.zeros((self.n, self.n))\n",
    "        self.mean_vectors = []\n",
    "        \n",
    "    def calculate_mean_vectors(self):\n",
    "        #Calculates mean vector\n",
    "        for cl in np.unique(self.y):\n",
    "            self.mean_vectors.append(np.mean(self.x[self.y==cl], axis=0))\n",
    "            \n",
    "    def get_mean_vectors(self):\n",
    "        self.calculate_mean_vectors()\n",
    "        return self.mean_vectors\n",
    "    \n",
    "    def calculate_s_w(self):\n",
    "        for cl, mean_vector in zip(np.unique(self.y), self.mean_vectors):\n",
    "            target_sc_mat = np.zeros((self.n,self.n)) #Scatter Matrix for all target\n",
    "            #S_within is S1 + S2 + ... + Sn\n",
    "            for row in self.x[self.y == cl]:\n",
    "                row, mean_vector = row.reshape(self.n,1), mean_vector.reshape(self.n,1) #Reshaping to column vectors\n",
    "                #S1 is Summation of (x - mean_vector_class_1)*(x - mean_vector_class_1).T\n",
    "                target_sc_mat += np.dot((row-mean_vector), (row-mean_vector).T)\n",
    "            self.s_w += target_sc_mat\n",
    "            \n",
    "    def get_s_within(self):\n",
    "        self.calculate_s_w()\n",
    "        return self.s_w\n",
    "    \n",
    "    def calculate_s_b(self):\n",
    "        mu = np.mean(self.x, axis=0).reshape(self.n,1) #Making it column vector\n",
    "        for cl, mean_vector in zip(np.unique(self.y), self.mean_vectors):  \n",
    "            n_i = len(self.x[self.y==cl])\n",
    "            mu_i = mean_vector.reshape(self.n,1) #Making it column vector\n",
    "            #S_between is summation of # of samples in class_i * (mean_class_i - overall_mean_of_x) dot (mean_class_i - overall_mean_of_x).T \n",
    "            self.s_b += n_i * np.dot((mu_i - mu), (mu_i - mu).T)\n",
    "            \n",
    "    def get_s_between(self):\n",
    "        self.calculate_s_b()\n",
    "        return self.s_b\n",
    "    \n",
    "    def lda(self):\n",
    "        #Step - 1 : Calculate mean vectors\n",
    "        mean_vectors = self.get_mean_vectors()\n",
    "        #Step - 2 : Calculate S_within\n",
    "        s_within = self.get_s_within()\n",
    "        #Step - 3 : Calculate S_between\n",
    "        s_between = self.get_s_between()\n",
    "        s_within_inverse = np.linalg.inv(s_within)\n",
    "        w_intermediate = np.dot(s_within_inverse, s_between)\n",
    "        #Step - 4: Find eigenvalues of S_within_inverse * s_between\n",
    "        self.eigenvalues, self.eigenvectors = np.linalg.eig(w_intermediate)\n",
    "        #Sort eigenvectors descending as per eigenvalues\n",
    "        idx = self.eigenvalues.argsort()[::-1]   \n",
    "        self.eigenvalues = self.eigenvalues[idx]\n",
    "        self.eigenvectors = self.eigenvectors[:,idx]\n",
    "        self.eigenvectors = self.eigenvectors[:,:len(np.unique(self.y))-1] #keep only k-1 eigenvectors\n",
    "        return self.get_W() #return eigenvectors, this is our W* (solution)\n",
    "        \n",
    "    def get_eigenvalues(self):\n",
    "        #returns eigenvalues in descending order\n",
    "        return self.eigenvalues\n",
    "    \n",
    "    def get_W(self):\n",
    "        return self.eigenvectors #W are nothing but eigenvectors corresponding to top (k-1) eigenvalues\n",
    "    \n",
    "    def get_mu_tilde(self):\n",
    "        #mu_tilde is 1/# of samples in class_i * summation of y_i\n",
    "        #Here, y_i = W.transpose() * x_of_class_i [rows]\n",
    "        W = self.get_W()\n",
    "        mu_tilde = []\n",
    "        y_projection = np.zeros_like(np.dot(W.transpose(), self.x[1,:]))\n",
    "        for cl in np.unique(self.y):\n",
    "            temp = np.zeros_like(y_projection)\n",
    "            for row in self.x[self.y==cl]:\n",
    "                #summation of y_i [W.transpose() * x_of_class_i] is done here\n",
    "                temp += np.dot(W.transpose(), row)\n",
    "            mu_tilde.append(temp/len(X[y==cl])) #1/# of samples in class_i\n",
    "        return mu_tilde"
   ]
  },
  {
   "cell_type": "code",
   "execution_count": 28,
   "metadata": {
    "collapsed": true
   },
   "outputs": [],
   "source": [
    "raw_iris = datasets.load_iris()\n",
    "X = raw_iris.data\n",
    "y = raw_iris.target"
   ]
  },
  {
   "cell_type": "code",
   "execution_count": 29,
   "metadata": {
    "collapsed": true
   },
   "outputs": [],
   "source": [
    "own_lda = Own_LDA(X, y)"
   ]
  },
  {
   "cell_type": "code",
   "execution_count": 30,
   "metadata": {},
   "outputs": [
    {
     "name": "stdout",
     "output_type": "stream",
     "text": [
      "[[ -3.02470965   1.04854437  -8.01870636  -3.4248604 ]\n",
      " [ -5.62090497   2.15249209 -15.10841483  -6.38266059]\n",
      " [  8.02895738  -2.86543716  21.36865869   9.09844555]\n",
      " [ 10.66719946  -3.41325116  27.99053514  12.05308354]]\n"
     ]
    }
   ],
   "source": [
    "W = own_lda.lda()"
   ]
  },
  {
   "cell_type": "code",
   "execution_count": 31,
   "metadata": {
    "collapsed": true
   },
   "outputs": [],
   "source": [
    "mu_tilde = own_lda.get_mu_tilde()"
   ]
  },
  {
   "cell_type": "code",
   "execution_count": 32,
   "metadata": {},
   "outputs": [
    {
     "name": "stderr",
     "output_type": "stream",
     "text": [
      "C:\\ProgramData\\Miniconda3\\lib\\site-packages\\numpy\\core\\numeric.py:531: ComplexWarning: Casting complex values to real discards the imaginary part\n",
      "  return array(a, dtype, copy=False, order=order)\n"
     ]
    },
    {
     "data": {
      "image/png": "[encoded data removed]",
      "text/plain": [
       "<matplotlib.figure.Figure at 0x1dc23644da0>"
      ]
     },
     "metadata": {},
     "output_type": "display_data"
    }
   ],
   "source": [
    "fig_width = 8\n",
    "fig_height = 6\n",
    "\n",
    "line_width = 2\n",
    "marker_size = 7\n",
    "\n",
    "axis_label_font_size = 9\n",
    "legend_font_size = 9\n",
    "\n",
    "# project iris data onto W\n",
    "projection = np.matmul(W.transpose(), X.transpose())\n",
    "projection = projection.transpose()\n",
    "\n",
    "# plot the projections\n",
    "fig = plt.figure()\n",
    "\n",
    "ax = fig.add_subplot(1, 1, 1)\n",
    "ax.set_title('Results from applying LDA to iris')\n",
    "ax.set_xlabel(r'$W_1$')\n",
    "ax.set_ylabel(r'$W_2$')\n",
    "ax.plot(projection[0:50, 0], projection[0:50, 1], linestyle='None', marker='o', markersize=marker_size, color='blue', label='setosa')\n",
    "ax.plot(projection[50:100, 0], projection[50:100, 1], linestyle='None', marker='o', markersize=marker_size, color='red', label='versicolor')\n",
    "ax.plot(projection[100:150, 0], projection[100:150, 1], linestyle='None', marker='o', markersize=marker_size, color='green', label='setosa')\n",
    "ax.legend()\n",
    "\n",
    "for i in range(len(mu_tilde)):\n",
    "    ax.plot(mu_tilde[i][0], mu_tilde[i][1],\n",
    "            linestyle='None', marker='*', markersize=15, color='magenta')"
   ]
  },
  {
   "cell_type": "code",
   "execution_count": 33,
   "metadata": {},
   "outputs": [
    {
     "data": {
      "text/plain": [
       "array([[-0.20490976+0.j, -0.00898234+0.j],\n",
       "       [-0.38714331+0.j, -0.58899857+0.j],\n",
       "       [ 0.54648218+0.j,  0.25428655+0.j],\n",
       "       [ 0.71378517+0.j, -0.76703217+0.j]])"
      ]
     },
     "execution_count": 33,
     "metadata": {},
     "output_type": "execute_result"
    }
   ],
   "source": [
    "W"
   ]
  }
 ],
 "metadata": {
  "kernelspec": {
   "display_name": "Python 3",
   "language": "python",
   "name": "python3"
  },
  "language_info": {
   "codemirror_mode": {
    "name": "ipython",
    "version": 3
   },
   "file_extension": ".py",
   "mimetype": "text/x-python",
   "name": "python",
   "nbconvert_exporter": "python",
   "pygments_lexer": "ipython3",
   "version": "3.6.1"
  }
 },
 "nbformat": 4,
 "nbformat_minor": 2
}
